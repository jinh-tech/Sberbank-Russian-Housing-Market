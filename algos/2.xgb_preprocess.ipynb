{
 "cells": [
  {
   "cell_type": "code",
   "execution_count": 1,
   "metadata": {
    "collapsed": true
   },
   "outputs": [],
   "source": [
    "import pandas as pd\n",
    "import numpy as np\n",
    "import xgboost as xgb\n",
    "import matplotlib.pyplot as plt\n",
    "from sklearn.preprocessing import Imputer,StandardScaler\n",
    "from sklearn.cross_validation import train_test_split\n",
    "from sklearn import preprocessing"
   ]
  },
  {
   "cell_type": "code",
   "execution_count": 2,
   "metadata": {
    "collapsed": false
   },
   "outputs": [],
   "source": [
    "x_train = pd.read_csv('../data/pre_x_train.csv')\n",
    "del x_train['id']\n",
    "del x_train['timestamp']\n",
    "x_train_id = pd.read_csv('../data/pre_x_train.csv',usecols=['id'])\n",
    "x_train_time = pd.read_csv('../data/pre_x_train.csv',usecols=['timestamp'])\n",
    "y_train = pd.read_csv('../data/pre_y_train.csv')\n",
    "\n",
    "x_test = pd.read_csv('../data/pre_x_test.csv')\n",
    "del x_test['id']\n",
    "del x_test['timestamp']\n",
    "x_test_id = pd.read_csv('../data/pre_x_test.csv',usecols=['id'])\n",
    "x_test_time = pd.read_csv('../data/pre_x_test.csv',usecols=['timestamp'])\n",
    "\n",
    "macro = pd.read_csv('../data/pre_macro.csv')"
   ]
  },
  {
   "cell_type": "code",
   "execution_count": 3,
   "metadata": {
    "collapsed": false
   },
   "outputs": [],
   "source": [
    "for f in x_train.columns:\n",
    "    if x_train[f].dtype==object:\n",
    "        lbl = preprocessing.LabelEncoder()\n",
    "        lbl.fit(list(x_test[f].values)+list(x_train[f].values)) \n",
    "        x_train[f] = lbl.transform(list(x_train[f].values))\n",
    "        x_test[f] = lbl.transform(list(x_test[f].values))"
   ]
  },
  {
   "cell_type": "code",
   "execution_count": 4,
   "metadata": {
    "collapsed": false
   },
   "outputs": [],
   "source": [
    "x_train, x_valid, y_train, y_valid = train_test_split(x_train, y_train, test_size=0.3, random_state=4141)"
   ]
  },
  {
   "cell_type": "code",
   "execution_count": 6,
   "metadata": {
    "collapsed": true
   },
   "outputs": [],
   "source": [
    "params = {}\n",
    "params['objective'] = 'reg:linear'\n",
    "params['eval_metric'] = 'rmse'\n",
    "params['eta'] = 0.02\n",
    "params['max_depth'] = 5"
   ]
  },
  {
   "cell_type": "code",
   "execution_count": 7,
   "metadata": {
    "collapsed": false
   },
   "outputs": [
    {
     "name": "stdout",
     "output_type": "stream",
     "text": [
      "[0]\ttrain-rmse:14.8174\tvalid-rmse:14.8247\n",
      "Multiple eval metrics have been passed: 'valid-rmse' will be used for early stopping.\n",
      "\n",
      "Will train until valid-rmse hasn't improved in 50 rounds.\n",
      "[10]\ttrain-rmse:12.1113\tvalid-rmse:12.1182\n",
      "[20]\ttrain-rmse:9.9009\tvalid-rmse:9.90756\n",
      "[30]\ttrain-rmse:8.09575\tvalid-rmse:8.10224\n",
      "[40]\ttrain-rmse:6.62187\tvalid-rmse:6.62817\n",
      "[50]\ttrain-rmse:5.4189\tvalid-rmse:5.42507\n",
      "[60]\ttrain-rmse:4.43751\tvalid-rmse:4.44355\n",
      "[70]\ttrain-rmse:3.63747\tvalid-rmse:3.64337\n",
      "[80]\ttrain-rmse:2.98592\tvalid-rmse:2.99191\n",
      "[90]\ttrain-rmse:2.45612\tvalid-rmse:2.46219\n",
      "[100]\ttrain-rmse:2.02628\tvalid-rmse:2.03227\n",
      "[110]\ttrain-rmse:1.6787\tvalid-rmse:1.6846\n",
      "[120]\ttrain-rmse:1.39892\tvalid-rmse:1.40475\n",
      "[130]\ttrain-rmse:1.17518\tvalid-rmse:1.18096\n",
      "[140]\ttrain-rmse:0.997786\tvalid-rmse:1.00357\n",
      "[150]\ttrain-rmse:0.858675\tvalid-rmse:0.864595\n",
      "[160]\ttrain-rmse:0.751088\tvalid-rmse:0.757024\n",
      "[170]\ttrain-rmse:0.669065\tvalid-rmse:0.675011\n",
      "[180]\ttrain-rmse:0.607968\tvalid-rmse:0.613886\n",
      "[190]\ttrain-rmse:0.562887\tvalid-rmse:0.568916\n",
      "[200]\ttrain-rmse:0.530026\tvalid-rmse:0.536353\n",
      "[210]\ttrain-rmse:0.506414\tvalid-rmse:0.513027\n",
      "[220]\ttrain-rmse:0.489723\tvalid-rmse:0.496686\n",
      "[230]\ttrain-rmse:0.477792\tvalid-rmse:0.485117\n",
      "[240]\ttrain-rmse:0.469152\tvalid-rmse:0.47708\n",
      "[250]\ttrain-rmse:0.462938\tvalid-rmse:0.471363\n",
      "[260]\ttrain-rmse:0.45819\tvalid-rmse:0.467286\n",
      "[270]\ttrain-rmse:0.454733\tvalid-rmse:0.464413\n",
      "[280]\ttrain-rmse:0.452004\tvalid-rmse:0.462269\n",
      "[290]\ttrain-rmse:0.44957\tvalid-rmse:0.460384\n",
      "[300]\ttrain-rmse:0.447794\tvalid-rmse:0.459208\n",
      "[310]\ttrain-rmse:0.44633\tvalid-rmse:0.45827\n",
      "[320]\ttrain-rmse:0.44488\tvalid-rmse:0.457493\n",
      "[330]\ttrain-rmse:0.443739\tvalid-rmse:0.456911\n",
      "[340]\ttrain-rmse:0.442553\tvalid-rmse:0.456346\n",
      "[350]\ttrain-rmse:0.441511\tvalid-rmse:0.45599\n",
      "[360]\ttrain-rmse:0.440567\tvalid-rmse:0.455694\n",
      "[370]\ttrain-rmse:0.439786\tvalid-rmse:0.455492\n",
      "[380]\ttrain-rmse:0.439093\tvalid-rmse:0.455321\n",
      "[390]\ttrain-rmse:0.438303\tvalid-rmse:0.455075\n",
      "[400]\ttrain-rmse:0.437532\tvalid-rmse:0.454773\n",
      "[410]\ttrain-rmse:0.436709\tvalid-rmse:0.454448\n",
      "[420]\ttrain-rmse:0.435972\tvalid-rmse:0.454238\n",
      "[430]\ttrain-rmse:0.435358\tvalid-rmse:0.45408\n",
      "[440]\ttrain-rmse:0.434758\tvalid-rmse:0.453876\n",
      "[450]\ttrain-rmse:0.434121\tvalid-rmse:0.453731\n",
      "[460]\ttrain-rmse:0.433522\tvalid-rmse:0.453626\n",
      "[470]\ttrain-rmse:0.432931\tvalid-rmse:0.453588\n",
      "[480]\ttrain-rmse:0.432361\tvalid-rmse:0.45343\n",
      "[490]\ttrain-rmse:0.431803\tvalid-rmse:0.453287\n",
      "[500]\ttrain-rmse:0.431119\tvalid-rmse:0.453174\n",
      "[510]\ttrain-rmse:0.430445\tvalid-rmse:0.453011\n",
      "[520]\ttrain-rmse:0.429647\tvalid-rmse:0.452801\n",
      "[530]\ttrain-rmse:0.429055\tvalid-rmse:0.452675\n",
      "[540]\ttrain-rmse:0.428504\tvalid-rmse:0.452674\n",
      "[550]\ttrain-rmse:0.427932\tvalid-rmse:0.452597\n",
      "[560]\ttrain-rmse:0.427317\tvalid-rmse:0.452583\n",
      "[570]\ttrain-rmse:0.426621\tvalid-rmse:0.452459\n",
      "[580]\ttrain-rmse:0.426012\tvalid-rmse:0.452432\n",
      "[590]\ttrain-rmse:0.425381\tvalid-rmse:0.452411\n",
      "[600]\ttrain-rmse:0.424724\tvalid-rmse:0.452358\n",
      "[610]\ttrain-rmse:0.424185\tvalid-rmse:0.452318\n",
      "[620]\ttrain-rmse:0.423467\tvalid-rmse:0.452228\n",
      "[630]\ttrain-rmse:0.42304\tvalid-rmse:0.452187\n",
      "[640]\ttrain-rmse:0.422537\tvalid-rmse:0.452178\n",
      "[650]\ttrain-rmse:0.421928\tvalid-rmse:0.452105\n",
      "[660]\ttrain-rmse:0.421293\tvalid-rmse:0.452032\n",
      "[670]\ttrain-rmse:0.420763\tvalid-rmse:0.451975\n",
      "[680]\ttrain-rmse:0.420185\tvalid-rmse:0.451928\n",
      "[690]\ttrain-rmse:0.419604\tvalid-rmse:0.451872\n",
      "[700]\ttrain-rmse:0.419038\tvalid-rmse:0.451876\n",
      "[710]\ttrain-rmse:0.418453\tvalid-rmse:0.451826\n",
      "[720]\ttrain-rmse:0.417782\tvalid-rmse:0.451758\n",
      "[730]\ttrain-rmse:0.417287\tvalid-rmse:0.451692\n",
      "[740]\ttrain-rmse:0.416657\tvalid-rmse:0.451712\n",
      "[750]\ttrain-rmse:0.416054\tvalid-rmse:0.451678\n",
      "[760]\ttrain-rmse:0.415434\tvalid-rmse:0.451698\n",
      "[770]\ttrain-rmse:0.415009\tvalid-rmse:0.451633\n",
      "[780]\ttrain-rmse:0.41427\tvalid-rmse:0.451583\n",
      "[790]\ttrain-rmse:0.413701\tvalid-rmse:0.451525\n",
      "[800]\ttrain-rmse:0.413202\tvalid-rmse:0.451515\n",
      "[810]\ttrain-rmse:0.412707\tvalid-rmse:0.451497\n",
      "[820]\ttrain-rmse:0.412237\tvalid-rmse:0.451515\n",
      "[830]\ttrain-rmse:0.411698\tvalid-rmse:0.451537\n",
      "[840]\ttrain-rmse:0.411129\tvalid-rmse:0.451583\n",
      "[850]\ttrain-rmse:0.410671\tvalid-rmse:0.451606\n",
      "Stopping. Best iteration:\n",
      "[809]\ttrain-rmse:0.412778\tvalid-rmse:0.451479\n",
      "\n"
     ]
    }
   ],
   "source": [
    "d_train = xgb.DMatrix(x_train,y_train)\n",
    "d_valid = xgb.DMatrix(x_valid,y_valid)\n",
    "watchlist = [(d_train, 'train'), (d_valid, 'valid')]\n",
    "bst = xgb.train(params, d_train, 1000, watchlist, early_stopping_rounds=50, verbose_eval=10)"
   ]
  },
  {
   "cell_type": "code",
   "execution_count": null,
   "metadata": {
    "collapsed": true
   },
   "outputs": [],
   "source": [
    "fig, ax = plt.subplots(figsize=(12,18))\n",
    "xgb.plot_importance(bst, max_num_features=50, height=0.8, ax=ax)\n",
    "plt.show()"
   ]
  },
  {
   "cell_type": "code",
   "execution_count": null,
   "metadata": {
    "collapsed": false
   },
   "outputs": [],
   "source": [
    "d_test = xgb.DMatrix(x_test)\n",
    "y_test = bst.predict(d_test)"
   ]
  },
  {
   "cell_type": "code",
   "execution_count": null,
   "metadata": {
    "collapsed": true
   },
   "outputs": [],
   "source": [
    "sub = pd.DataFrame()\n",
    "sub['id'] = np.array(x_test_id['id'].values,np.int32)\n",
    "sub['price_doc'] = np.exp(y_test)-1.0\n",
    "sub.to_csv('../output/simple5.csv', index=False)"
   ]
  }
 ],
 "metadata": {
  "anaconda-cloud": {},
  "kernelspec": {
   "display_name": "Python [default]",
   "language": "python",
   "name": "python2"
  },
  "language_info": {
   "codemirror_mode": {
    "name": "ipython",
    "version": 2
   },
   "file_extension": ".py",
   "mimetype": "text/x-python",
   "name": "python",
   "nbconvert_exporter": "python",
   "pygments_lexer": "ipython2",
   "version": "2.7.12"
  }
 },
 "nbformat": 4,
 "nbformat_minor": 2
}
