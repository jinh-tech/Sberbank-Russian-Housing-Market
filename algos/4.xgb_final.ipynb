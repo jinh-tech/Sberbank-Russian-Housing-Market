{
 "cells": [
  {
   "cell_type": "code",
   "execution_count": 1,
   "metadata": {
    "collapsed": true
   },
   "outputs": [],
   "source": [
    "import pandas as pd\n",
    "import numpy as np\n",
    "import xgboost as xgb\n",
    "import matplotlib.pyplot as plt\n",
    "from sklearn.preprocessing import Imputer,StandardScaler\n",
    "from sklearn.cross_validation import train_test_split\n",
    "from sklearn import preprocessing\n",
    "import math"
   ]
  },
  {
   "cell_type": "code",
   "execution_count": 2,
   "metadata": {
    "collapsed": true
   },
   "outputs": [],
   "source": [
    "def standard(train,test):\n",
    "    scaler = StandardScaler().fit(train)\n",
    "    train = scaler.transform(train)\n",
    "    test = scaler.transform(test)\n",
    "    return train,test"
   ]
  },
  {
   "cell_type": "code",
   "execution_count": 9,
   "metadata": {
    "collapsed": false
   },
   "outputs": [],
   "source": [
    "x_train = pd.read_csv('../data/x_train_40.csv')\n",
    "y_train = pd.read_csv('../data/pre_y_train.csv')\n",
    "x_test = pd.read_csv('../data/x_test_40.csv')\n",
    "x_test_id = pd.read_csv('../data/pre_x_test.csv',usecols=['id'])\n",
    "#x_train,x_test = standard(x_train,x_test)\n",
    "#print x_train\n",
    "#for i in x_train.columns:\n",
    "#    if x_train[i].dtype != np.int64 and x_train[i].dtype != np.float64:\n",
    "#        print i"
   ]
  },
  {
   "cell_type": "code",
   "execution_count": 4,
   "metadata": {
    "collapsed": true
   },
   "outputs": [],
   "source": [
    "x_train, x_valid, y_train, y_valid = train_test_split(x_train, y_train, test_size=0.1)"
   ]
  },
  {
   "cell_type": "code",
   "execution_count": 5,
   "metadata": {
    "collapsed": false
   },
   "outputs": [
    {
     "name": "stdout",
     "output_type": "stream",
     "text": [
      "[0]\ttrain-rmse:14.8197\tvalid-rmse:14.8184\n",
      "Multiple eval metrics have been passed: 'valid-rmse' will be used for early stopping.\n",
      "\n",
      "Will train until valid-rmse hasn't improved in 50 rounds.\n",
      "[10]\ttrain-rmse:12.113\tvalid-rmse:12.1124\n",
      "[20]\ttrain-rmse:9.90217\tvalid-rmse:9.90198\n",
      "[30]\ttrain-rmse:8.09661\tvalid-rmse:8.0969\n",
      "[40]\ttrain-rmse:6.62237\tvalid-rmse:6.62287\n",
      "[50]\ttrain-rmse:5.41906\tvalid-rmse:5.41975\n",
      "[60]\ttrain-rmse:4.43738\tvalid-rmse:4.43822\n",
      "[70]\ttrain-rmse:3.63704\tvalid-rmse:3.63847\n",
      "[80]\ttrain-rmse:2.98514\tvalid-rmse:2.98701\n",
      "[90]\ttrain-rmse:2.45488\tvalid-rmse:2.45762\n",
      "[100]\ttrain-rmse:2.02447\tvalid-rmse:2.02828\n",
      "[110]\ttrain-rmse:1.67618\tvalid-rmse:1.68121\n",
      "[120]\ttrain-rmse:1.39558\tvalid-rmse:1.40187\n",
      "[130]\ttrain-rmse:1.17099\tvalid-rmse:1.17844\n",
      "[140]\ttrain-rmse:0.992494\tvalid-rmse:1.00138\n",
      "[150]\ttrain-rmse:0.852192\tvalid-rmse:0.862973\n",
      "[160]\ttrain-rmse:0.743445\tvalid-rmse:0.756268\n",
      "[170]\ttrain-rmse:0.66027\tvalid-rmse:0.675332\n",
      "[180]\ttrain-rmse:0.597878\tvalid-rmse:0.615311\n",
      "[190]\ttrain-rmse:0.551673\tvalid-rmse:0.571235\n",
      "[200]\ttrain-rmse:0.517863\tvalid-rmse:0.539604\n",
      "[210]\ttrain-rmse:0.493344\tvalid-rmse:0.517027\n",
      "[220]\ttrain-rmse:0.475841\tvalid-rmse:0.501191\n",
      "[230]\ttrain-rmse:0.463236\tvalid-rmse:0.490136\n",
      "[240]\ttrain-rmse:0.454143\tvalid-rmse:0.482495\n",
      "[250]\ttrain-rmse:0.447497\tvalid-rmse:0.47723\n",
      "[260]\ttrain-rmse:0.44238\tvalid-rmse:0.47353\n",
      "[270]\ttrain-rmse:0.438665\tvalid-rmse:0.470978\n",
      "[280]\ttrain-rmse:0.435718\tvalid-rmse:0.469113\n",
      "[290]\ttrain-rmse:0.433223\tvalid-rmse:0.467683\n",
      "[300]\ttrain-rmse:0.431163\tvalid-rmse:0.466541\n",
      "[310]\ttrain-rmse:0.429107\tvalid-rmse:0.465567\n",
      "[320]\ttrain-rmse:0.427344\tvalid-rmse:0.464756\n",
      "[330]\ttrain-rmse:0.425718\tvalid-rmse:0.464217\n",
      "[340]\ttrain-rmse:0.424425\tvalid-rmse:0.463805\n",
      "[350]\ttrain-rmse:0.423271\tvalid-rmse:0.463396\n",
      "[360]\ttrain-rmse:0.422122\tvalid-rmse:0.46313\n",
      "[370]\ttrain-rmse:0.420697\tvalid-rmse:0.462727\n",
      "[380]\ttrain-rmse:0.419435\tvalid-rmse:0.462526\n",
      "[390]\ttrain-rmse:0.418279\tvalid-rmse:0.462329\n",
      "[400]\ttrain-rmse:0.417462\tvalid-rmse:0.462107\n",
      "[410]\ttrain-rmse:0.416362\tvalid-rmse:0.461906\n",
      "[420]\ttrain-rmse:0.415301\tvalid-rmse:0.461785\n",
      "[430]\ttrain-rmse:0.414442\tvalid-rmse:0.461592\n",
      "[440]\ttrain-rmse:0.4134\tvalid-rmse:0.46128\n",
      "[450]\ttrain-rmse:0.412081\tvalid-rmse:0.461094\n",
      "[460]\ttrain-rmse:0.411171\tvalid-rmse:0.460899\n",
      "[470]\ttrain-rmse:0.410213\tvalid-rmse:0.460717\n",
      "[480]\ttrain-rmse:0.409023\tvalid-rmse:0.460608\n",
      "[490]\ttrain-rmse:0.40807\tvalid-rmse:0.460505\n",
      "[500]\ttrain-rmse:0.40701\tvalid-rmse:0.460414\n",
      "[510]\ttrain-rmse:0.406225\tvalid-rmse:0.460417\n",
      "[520]\ttrain-rmse:0.405115\tvalid-rmse:0.460433\n",
      "[530]\ttrain-rmse:0.404141\tvalid-rmse:0.460298\n",
      "[540]\ttrain-rmse:0.40306\tvalid-rmse:0.46019\n",
      "[550]\ttrain-rmse:0.402152\tvalid-rmse:0.460122\n",
      "[560]\ttrain-rmse:0.401291\tvalid-rmse:0.460025\n",
      "[570]\ttrain-rmse:0.400355\tvalid-rmse:0.459969\n",
      "[580]\ttrain-rmse:0.399514\tvalid-rmse:0.459879\n",
      "[590]\ttrain-rmse:0.398698\tvalid-rmse:0.459782\n",
      "[600]\ttrain-rmse:0.397765\tvalid-rmse:0.459677\n",
      "[610]\ttrain-rmse:0.397049\tvalid-rmse:0.459642\n",
      "[620]\ttrain-rmse:0.39612\tvalid-rmse:0.459573\n",
      "[630]\ttrain-rmse:0.395466\tvalid-rmse:0.459462\n",
      "[640]\ttrain-rmse:0.394403\tvalid-rmse:0.459457\n",
      "[650]\ttrain-rmse:0.393622\tvalid-rmse:0.459388\n",
      "[660]\ttrain-rmse:0.392686\tvalid-rmse:0.459391\n",
      "[670]\ttrain-rmse:0.391555\tvalid-rmse:0.459394\n",
      "[680]\ttrain-rmse:0.390642\tvalid-rmse:0.459396\n",
      "[690]\ttrain-rmse:0.389822\tvalid-rmse:0.459365\n",
      "[700]\ttrain-rmse:0.388988\tvalid-rmse:0.459308\n",
      "[710]\ttrain-rmse:0.388331\tvalid-rmse:0.459356\n",
      "[720]\ttrain-rmse:0.387543\tvalid-rmse:0.459301\n",
      "[730]\ttrain-rmse:0.386701\tvalid-rmse:0.45921\n",
      "[740]\ttrain-rmse:0.385933\tvalid-rmse:0.459185\n",
      "[750]\ttrain-rmse:0.385201\tvalid-rmse:0.459157\n",
      "[760]\ttrain-rmse:0.384264\tvalid-rmse:0.459185\n",
      "[770]\ttrain-rmse:0.383262\tvalid-rmse:0.459104\n",
      "[780]\ttrain-rmse:0.382514\tvalid-rmse:0.459076\n",
      "[790]\ttrain-rmse:0.381579\tvalid-rmse:0.458988\n",
      "[800]\ttrain-rmse:0.380706\tvalid-rmse:0.458932\n",
      "[810]\ttrain-rmse:0.380003\tvalid-rmse:0.458905\n",
      "[820]\ttrain-rmse:0.379147\tvalid-rmse:0.458866\n",
      "[830]\ttrain-rmse:0.378264\tvalid-rmse:0.458839\n",
      "[840]\ttrain-rmse:0.377371\tvalid-rmse:0.458763\n",
      "[850]\ttrain-rmse:0.376768\tvalid-rmse:0.458774\n",
      "[860]\ttrain-rmse:0.375808\tvalid-rmse:0.458697\n",
      "[870]\ttrain-rmse:0.375031\tvalid-rmse:0.458672\n",
      "[880]\ttrain-rmse:0.374343\tvalid-rmse:0.458736\n",
      "[890]\ttrain-rmse:0.373415\tvalid-rmse:0.458678\n",
      "[900]\ttrain-rmse:0.372384\tvalid-rmse:0.45875\n",
      "[910]\ttrain-rmse:0.371291\tvalid-rmse:0.458779\n",
      "Stopping. Best iteration:\n",
      "[865]\ttrain-rmse:0.375303\tvalid-rmse:0.458656\n",
      "\n"
     ]
    }
   ],
   "source": [
    "params = {}\n",
    "params['objective'] = 'reg:linear'\n",
    "params['eval_metric'] = 'rmse'\n",
    "params['eta'] = 0.02\n",
    "params['max_depth'] = 6\n",
    "d_train = xgb.DMatrix(x_train,y_train)\n",
    "d_valid = xgb.DMatrix(x_valid,y_valid)\n",
    "watchlist = [(d_train, 'train'), (d_valid, 'valid')]\n",
    "bst = xgb.train(params, d_train, 1000, watchlist ,early_stopping_rounds=50, verbose_eval=10)"
   ]
  },
  {
   "cell_type": "code",
   "execution_count": 6,
   "metadata": {
    "collapsed": true
   },
   "outputs": [],
   "source": [
    "d_test = xgb.DMatrix(x_test)\n",
    "y_test = bst.predict(d_test)"
   ]
  },
  {
   "cell_type": "code",
   "execution_count": 7,
   "metadata": {
    "collapsed": true
   },
   "outputs": [],
   "source": [
    "sub = pd.DataFrame()\n",
    "sub['id'] = np.array(x_test_id['id'].values,np.int32)\n",
    "sub['price_doc'] = np.exp(y_test)-1.0\n",
    "sub.to_csv('../output/simple10.csv', index=False)"
   ]
  }
 ],
 "metadata": {
  "anaconda-cloud": {},
  "kernelspec": {
   "display_name": "Python [default]",
   "language": "python",
   "name": "python2"
  },
  "language_info": {
   "codemirror_mode": {
    "name": "ipython",
    "version": 2
   },
   "file_extension": ".py",
   "mimetype": "text/x-python",
   "name": "python",
   "nbconvert_exporter": "python",
   "pygments_lexer": "ipython2",
   "version": "2.7.12"
  }
 },
 "nbformat": 4,
 "nbformat_minor": 2
}
