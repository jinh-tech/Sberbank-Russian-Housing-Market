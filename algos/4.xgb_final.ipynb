{
 "cells": [
  {
   "cell_type": "code",
   "execution_count": 1,
   "metadata": {
    "collapsed": true
   },
   "outputs": [],
   "source": [
    "import pandas as pd\n",
    "import numpy as np\n",
    "import xgboost as xgb\n",
    "import matplotlib.pyplot as plt\n",
    "from sklearn.preprocessing import Imputer,StandardScaler\n",
    "from sklearn.cross_validation import train_test_split\n",
    "from sklearn import preprocessing\n",
    "import math"
   ]
  },
  {
   "cell_type": "code",
   "execution_count": 2,
   "metadata": {
    "collapsed": true
   },
   "outputs": [],
   "source": [
    "def standard(train,test):\n",
    "    scaler = StandardScaler().fit(train)\n",
    "    train = scaler.transform(train)\n",
    "    test = scaler.transform(test)\n",
    "    return train,test"
   ]
  },
  {
   "cell_type": "code",
   "execution_count": 3,
   "metadata": {
    "collapsed": false
   },
   "outputs": [],
   "source": [
    "x_train = pd.read_csv('../data/x_train_30.csv')\n",
    "y_train = pd.read_csv('../data/pre_y_train.csv')\n",
    "x_test = pd.read_csv('../data/x_test_30.csv')\n",
    "x_test_id = pd.read_csv('../data/pre_x_test.csv',usecols=['id'])\n",
    "#x_train,x_test = standard(x_train,x_test)\n",
    "#print x_train\n",
    "#for i in x_train.columns:\n",
    "#    if x_train[i].dtype != np.int64 and x_train[i].dtype != np.float64:\n",
    "#        print i"
   ]
  },
  {
   "cell_type": "code",
   "execution_count": 4,
   "metadata": {
    "collapsed": true
   },
   "outputs": [],
   "source": [
    "x_train, x_valid, y_train, y_valid = train_test_split(x_train, y_train, test_size=0.1)"
   ]
  },
  {
   "cell_type": "code",
   "execution_count": 5,
   "metadata": {
    "collapsed": false
   },
   "outputs": [
    {
     "name": "stdout",
     "output_type": "stream",
     "text": [
      "[0]\ttrain-rmse:14.8204\tvalid-rmse:14.8118\n",
      "Multiple eval metrics have been passed: 'valid-rmse' will be used for early stopping.\n",
      "\n",
      "Will train until valid-rmse hasn't improved in 50 rounds.\n",
      "[10]\ttrain-rmse:12.1136\tvalid-rmse:12.1064\n",
      "[20]\ttrain-rmse:9.90265\tvalid-rmse:9.8966\n",
      "[30]\ttrain-rmse:8.09701\tvalid-rmse:8.09196\n",
      "[40]\ttrain-rmse:6.62273\tvalid-rmse:6.61834\n",
      "[50]\ttrain-rmse:5.41939\tvalid-rmse:5.41555\n",
      "[60]\ttrain-rmse:4.43767\tvalid-rmse:4.43432\n",
      "[70]\ttrain-rmse:3.63731\tvalid-rmse:3.63454\n",
      "[80]\ttrain-rmse:2.98538\tvalid-rmse:2.98365\n",
      "[90]\ttrain-rmse:2.45508\tvalid-rmse:2.45427\n",
      "[100]\ttrain-rmse:2.02467\tvalid-rmse:2.02499\n",
      "[110]\ttrain-rmse:1.6764\tvalid-rmse:1.67814\n",
      "[120]\ttrain-rmse:1.3959\tvalid-rmse:1.39898\n",
      "[130]\ttrain-rmse:1.17129\tvalid-rmse:1.17573\n",
      "[140]\ttrain-rmse:0.993003\tvalid-rmse:0.999008\n",
      "[150]\ttrain-rmse:0.852874\tvalid-rmse:0.861011\n",
      "[160]\ttrain-rmse:0.744209\tvalid-rmse:0.754459\n",
      "[170]\ttrain-rmse:0.661249\tvalid-rmse:0.673745\n",
      "[180]\ttrain-rmse:0.598941\tvalid-rmse:0.613629\n",
      "[190]\ttrain-rmse:0.552794\tvalid-rmse:0.569763\n",
      "[200]\ttrain-rmse:0.519194\tvalid-rmse:0.538171\n",
      "[210]\ttrain-rmse:0.494848\tvalid-rmse:0.515727\n",
      "[220]\ttrain-rmse:0.477439\tvalid-rmse:0.500092\n",
      "[230]\ttrain-rmse:0.46486\tvalid-rmse:0.489005\n",
      "[240]\ttrain-rmse:0.455706\tvalid-rmse:0.481326\n",
      "[250]\ttrain-rmse:0.449019\tvalid-rmse:0.476097\n",
      "[260]\ttrain-rmse:0.44415\tvalid-rmse:0.47247\n",
      "[270]\ttrain-rmse:0.440305\tvalid-rmse:0.469872\n",
      "[280]\ttrain-rmse:0.437115\tvalid-rmse:0.467947\n",
      "[290]\ttrain-rmse:0.434709\tvalid-rmse:0.466635\n",
      "[300]\ttrain-rmse:0.432635\tvalid-rmse:0.465631\n",
      "[310]\ttrain-rmse:0.430853\tvalid-rmse:0.46489\n",
      "[320]\ttrain-rmse:0.429156\tvalid-rmse:0.464357\n",
      "[330]\ttrain-rmse:0.427641\tvalid-rmse:0.463824\n",
      "[340]\ttrain-rmse:0.426158\tvalid-rmse:0.463472\n",
      "[350]\ttrain-rmse:0.424663\tvalid-rmse:0.463118\n",
      "[360]\ttrain-rmse:0.423183\tvalid-rmse:0.462966\n",
      "[370]\ttrain-rmse:0.421781\tvalid-rmse:0.462692\n",
      "[380]\ttrain-rmse:0.420619\tvalid-rmse:0.462563\n",
      "[390]\ttrain-rmse:0.419538\tvalid-rmse:0.46255\n",
      "[400]\ttrain-rmse:0.418594\tvalid-rmse:0.462299\n",
      "[410]\ttrain-rmse:0.417631\tvalid-rmse:0.46215\n",
      "[420]\ttrain-rmse:0.416771\tvalid-rmse:0.462096\n",
      "[430]\ttrain-rmse:0.415936\tvalid-rmse:0.462103\n",
      "[440]\ttrain-rmse:0.415158\tvalid-rmse:0.461892\n",
      "[450]\ttrain-rmse:0.414296\tvalid-rmse:0.4617\n",
      "[460]\ttrain-rmse:0.413425\tvalid-rmse:0.461626\n",
      "[470]\ttrain-rmse:0.412438\tvalid-rmse:0.461534\n",
      "[480]\ttrain-rmse:0.41144\tvalid-rmse:0.461537\n",
      "[490]\ttrain-rmse:0.410456\tvalid-rmse:0.461391\n",
      "[500]\ttrain-rmse:0.409676\tvalid-rmse:0.461333\n",
      "[510]\ttrain-rmse:0.408771\tvalid-rmse:0.461297\n",
      "[520]\ttrain-rmse:0.408015\tvalid-rmse:0.461257\n",
      "[530]\ttrain-rmse:0.407035\tvalid-rmse:0.461232\n",
      "[540]\ttrain-rmse:0.406299\tvalid-rmse:0.461143\n",
      "[550]\ttrain-rmse:0.405348\tvalid-rmse:0.461073\n",
      "[560]\ttrain-rmse:0.404568\tvalid-rmse:0.46103\n",
      "[570]\ttrain-rmse:0.403779\tvalid-rmse:0.460965\n",
      "[580]\ttrain-rmse:0.403118\tvalid-rmse:0.460919\n",
      "[590]\ttrain-rmse:0.402415\tvalid-rmse:0.460869\n",
      "[600]\ttrain-rmse:0.401608\tvalid-rmse:0.460841\n",
      "[610]\ttrain-rmse:0.400656\tvalid-rmse:0.460758\n",
      "[620]\ttrain-rmse:0.399906\tvalid-rmse:0.460759\n",
      "[630]\ttrain-rmse:0.399166\tvalid-rmse:0.46079\n",
      "[640]\ttrain-rmse:0.398382\tvalid-rmse:0.46074\n",
      "[650]\ttrain-rmse:0.397776\tvalid-rmse:0.460671\n",
      "[660]\ttrain-rmse:0.396861\tvalid-rmse:0.46061\n",
      "[670]\ttrain-rmse:0.396072\tvalid-rmse:0.460568\n",
      "[680]\ttrain-rmse:0.395336\tvalid-rmse:0.460564\n",
      "[690]\ttrain-rmse:0.394424\tvalid-rmse:0.460614\n",
      "[700]\ttrain-rmse:0.393732\tvalid-rmse:0.460511\n",
      "[710]\ttrain-rmse:0.392757\tvalid-rmse:0.460356\n",
      "[720]\ttrain-rmse:0.391876\tvalid-rmse:0.460337\n",
      "[730]\ttrain-rmse:0.390951\tvalid-rmse:0.460298\n",
      "[740]\ttrain-rmse:0.390387\tvalid-rmse:0.460254\n",
      "[750]\ttrain-rmse:0.389688\tvalid-rmse:0.46028\n",
      "[760]\ttrain-rmse:0.388614\tvalid-rmse:0.460152\n",
      "[770]\ttrain-rmse:0.387677\tvalid-rmse:0.460196\n",
      "[780]\ttrain-rmse:0.386525\tvalid-rmse:0.46018\n",
      "[790]\ttrain-rmse:0.385755\tvalid-rmse:0.460248\n",
      "[800]\ttrain-rmse:0.384709\tvalid-rmse:0.460357\n",
      "[810]\ttrain-rmse:0.383835\tvalid-rmse:0.460405\n",
      "Stopping. Best iteration:\n",
      "[761]\ttrain-rmse:0.388557\tvalid-rmse:0.460148\n",
      "\n"
     ]
    }
   ],
   "source": [
    "params = {}\n",
    "params['objective'] = 'reg:linear'\n",
    "params['eval_metric'] = 'rmse'\n",
    "params['eta'] = 0.02\n",
    "params['max_depth'] = 6\n",
    "d_train = xgb.DMatrix(x_train,y_train)\n",
    "d_valid = xgb.DMatrix(x_valid,y_valid)\n",
    "watchlist = [(d_train, 'train'), (d_valid, 'valid')]\n",
    "bst = xgb.train(params, d_train, 1000, watchlist ,early_stopping_rounds=50, verbose_eval=10)"
   ]
  },
  {
   "cell_type": "code",
   "execution_count": 6,
   "metadata": {
    "collapsed": true
   },
   "outputs": [],
   "source": [
    "d_test = xgb.DMatrix(x_test)\n",
    "y_test = bst.predict(d_test)"
   ]
  },
  {
   "cell_type": "code",
   "execution_count": 7,
   "metadata": {
    "collapsed": true
   },
   "outputs": [],
   "source": [
    "sub = pd.DataFrame()\n",
    "sub['id'] = np.array(x_test_id['id'].values,np.int32)\n",
    "sub['price_doc'] = np.exp(y_test)-1.0\n",
    "sub.to_csv('../output/simple11.csv', index=False)"
   ]
  }
 ],
 "metadata": {
  "anaconda-cloud": {},
  "kernelspec": {
   "display_name": "Python [default]",
   "language": "python",
   "name": "python2"
  },
  "language_info": {
   "codemirror_mode": {
    "name": "ipython",
    "version": 2
   },
   "file_extension": ".py",
   "mimetype": "text/x-python",
   "name": "python",
   "nbconvert_exporter": "python",
   "pygments_lexer": "ipython2",
   "version": "2.7.12"
  }
 },
 "nbformat": 4,
 "nbformat_minor": 2
}
