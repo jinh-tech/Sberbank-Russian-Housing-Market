{
 "cells": [
  {
   "cell_type": "code",
   "execution_count": 1,
   "metadata": {
    "collapsed": true
   },
   "outputs": [],
   "source": [
    "import pandas as pd\n",
    "import numpy as np\n",
    "import xgboost as xgb\n",
    "import matplotlib.pyplot as plt\n",
    "from sklearn.preprocessing import Imputer,StandardScaler\n",
    "from sklearn.cross_validation import train_test_split\n",
    "from sklearn import preprocessing\n",
    "import operator"
   ]
  },
  {
   "cell_type": "code",
   "execution_count": 2,
   "metadata": {
    "collapsed": true
   },
   "outputs": [],
   "source": [
    "x_train = pd.read_csv('../data/pre_x_train.csv',parse_dates=['timestamp'])\n",
    "y_train = pd.read_csv('../data/pre_y_train.csv')\n",
    "\n",
    "x_test = pd.read_csv('../data/pre_x_test.csv',parse_dates=['timestamp'])\n",
    "x_test_id = pd.read_csv('../data/pre_x_test.csv',usecols=['id'])\n",
    "\n",
    "macro = pd.read_csv('../data/pre_macro.csv',parse_dates=['timestamp'])"
   ]
  },
  {
   "cell_type": "code",
   "execution_count": 3,
   "metadata": {
    "collapsed": false
   },
   "outputs": [
    {
     "name": "stdout",
     "output_type": "stream",
     "text": [
      "(38133, 66)\n"
     ]
    }
   ],
   "source": [
    "x_train.drop(['id'], axis=1, inplace=True)\n",
    "x_test.drop(['id'], axis=1, inplace=True)\n",
    "\n",
    "# Build df_all = (x_train+x_test).join(macro)\n",
    "num_train = len(x_train)\n",
    "df_all = pd.concat([x_train, x_test])\n",
    "df_all = pd.merge(df_all, macro, on='timestamp', how='left',sort=True)\n",
    "print(df_all.shape)\n",
    "\n",
    "# Add month-year\n",
    "month_year = (df_all.timestamp.dt.month + df_all.timestamp.dt.year * 100)\n",
    "month_year_cnt_map = month_year.value_counts().to_dict()\n",
    "df_all['month_year_cnt'] = month_year.map(month_year_cnt_map)\n",
    "\n",
    "# Add week-year count\n",
    "week_year = (df_all.timestamp.dt.weekofyear + df_all.timestamp.dt.year * 100)\n",
    "week_year_cnt_map = week_year.value_counts().to_dict()\n",
    "df_all['week_year_cnt'] = week_year.map(week_year_cnt_map)\n",
    "\n",
    "# Add month and day-of-week\n",
    "df_all['month'] = df_all.timestamp.dt.month\n",
    "df_all['dow'] = df_all.timestamp.dt.dayofweek\n",
    "\n",
    "# Remove timestamp column (may overfit the model in train)\n",
    "df_all.drop(['timestamp'], axis=1, inplace=True)"
   ]
  },
  {
   "cell_type": "code",
   "execution_count": 4,
   "metadata": {
    "collapsed": true
   },
   "outputs": [],
   "source": [
    "df_all['rel_floor'] = df_all['floor'].values / df_all['max_floor'].values\n",
    "df_all['rel_kitch_sq'] = df_all['kitch_sq'].values / df_all['full_sq'].values"
   ]
  },
  {
   "cell_type": "code",
   "execution_count": 5,
   "metadata": {
    "collapsed": false
   },
   "outputs": [
    {
     "name": "stdout",
     "output_type": "stream",
     "text": [
      "(30471, 71) (7662, 71)\n"
     ]
    }
   ],
   "source": [
    "x_train = df_all[:num_train]\n",
    "x_test = df_all[num_train:]\n",
    "print x_train.shape,x_test.shape"
   ]
  },
  {
   "cell_type": "code",
   "execution_count": 6,
   "metadata": {
    "collapsed": false
   },
   "outputs": [
    {
     "name": "stderr",
     "output_type": "stream",
     "text": [
      "/home/jarvis/anaconda2/lib/python2.7/site-packages/ipykernel/__main__.py:5: SettingWithCopyWarning: \n",
      "A value is trying to be set on a copy of a slice from a DataFrame.\n",
      "Try using .loc[row_indexer,col_indexer] = value instead\n",
      "\n",
      "See the caveats in the documentation: http://pandas.pydata.org/pandas-docs/stable/indexing.html#indexing-view-versus-copy\n",
      "/home/jarvis/anaconda2/lib/python2.7/site-packages/ipykernel/__main__.py:6: SettingWithCopyWarning: \n",
      "A value is trying to be set on a copy of a slice from a DataFrame.\n",
      "Try using .loc[row_indexer,col_indexer] = value instead\n",
      "\n",
      "See the caveats in the documentation: http://pandas.pydata.org/pandas-docs/stable/indexing.html#indexing-view-versus-copy\n"
     ]
    }
   ],
   "source": [
    "for f in x_train.columns:\n",
    "    if x_train[f].dtype==object:\n",
    "        lbl = preprocessing.LabelEncoder()\n",
    "        lbl.fit(list(x_test[f].values)+list(x_train[f].values)) \n",
    "        x_train[f] = lbl.transform(list(x_train[f].values))\n",
    "        x_test[f] = lbl.transform(list(x_test[f].values))"
   ]
  },
  {
   "cell_type": "code",
   "execution_count": 7,
   "metadata": {
    "collapsed": true
   },
   "outputs": [],
   "source": [
    "x_train1, x_valid1, y_train1, y_valid1 = train_test_split(x_train, y_train, test_size=0.3, random_state=4242)"
   ]
  },
  {
   "cell_type": "code",
   "execution_count": 8,
   "metadata": {
    "collapsed": false
   },
   "outputs": [
    {
     "name": "stdout",
     "output_type": "stream",
     "text": [
      "(30471, 71) (7662, 71)\n"
     ]
    }
   ],
   "source": [
    "print x_train.shape,x_test.shape"
   ]
  },
  {
   "cell_type": "code",
   "execution_count": 9,
   "metadata": {
    "collapsed": false
   },
   "outputs": [
    {
     "name": "stdout",
     "output_type": "stream",
     "text": [
      "[0]\ttrain-rmse:14.8169\tvalid-rmse:14.8261\n",
      "Multiple eval metrics have been passed: 'valid-rmse' will be used for early stopping.\n",
      "\n",
      "Will train until valid-rmse hasn't improved in 50 rounds.\n",
      "[100]\ttrain-rmse:2.02535\tvalid-rmse:2.03314\n",
      "[200]\ttrain-rmse:0.525781\tvalid-rmse:0.540645\n",
      "[300]\ttrain-rmse:0.442089\tvalid-rmse:0.464161\n",
      "[400]\ttrain-rmse:0.430167\tvalid-rmse:0.459795\n",
      "[500]\ttrain-rmse:0.422142\tvalid-rmse:0.458394\n",
      "[600]\ttrain-rmse:0.415712\tvalid-rmse:0.457371\n",
      "[700]\ttrain-rmse:0.409536\tvalid-rmse:0.456944\n",
      "[800]\ttrain-rmse:0.403048\tvalid-rmse:0.456715\n",
      "[900]\ttrain-rmse:0.396655\tvalid-rmse:0.456549\n",
      "Stopping. Best iteration:\n",
      "[862]\ttrain-rmse:0.399053\tvalid-rmse:0.456505\n",
      "\n"
     ]
    }
   ],
   "source": [
    "params = {}\n",
    "params['objective'] = 'reg:linear'\n",
    "params['eval_metric'] = 'rmse'\n",
    "params['eta'] = 0.02\n",
    "params['max_depth'] = 5\n",
    "d_train = xgb.DMatrix(x_train1,y_train1)\n",
    "d_valid = xgb.DMatrix(x_valid1,y_valid1)\n",
    "watchlist = [(d_train, 'train'), (d_valid, 'valid')]\n",
    "bst = xgb.train(params, d_train, 1000, watchlist, early_stopping_rounds=50, verbose_eval=100)"
   ]
  },
  {
   "cell_type": "code",
   "execution_count": 10,
   "metadata": {
    "collapsed": false,
    "scrolled": true
   },
   "outputs": [],
   "source": [
    "sorted_x = sorted(bst.get_fscore().items(), key=operator.itemgetter(1))\n",
    "sorted_x = sorted_x[::-1]\n",
    "sorted_x = sorted_x[:50]"
   ]
  },
  {
   "cell_type": "code",
   "execution_count": 11,
   "metadata": {
    "collapsed": false
   },
   "outputs": [],
   "source": [
    "new = pd.DataFrame()\n",
    "new1 = pd.DataFrame()\n",
    "for i in range(0,len(sorted_x)):\n",
    "    new[sorted_x[i][0]] = x_train[sorted_x[i][0]]\n",
    "    new1[sorted_x[i][0]] = x_test[sorted_x[i][0]]\n",
    "\n",
    "new.to_csv('../data/x_train_50.csv',index=False)\n",
    "new1.to_csv('../data/x_test_50.csv',index=False)"
   ]
  }
 ],
 "metadata": {
  "anaconda-cloud": {},
  "kernelspec": {
   "display_name": "Python [default]",
   "language": "python",
   "name": "python2"
  },
  "language_info": {
   "codemirror_mode": {
    "name": "ipython",
    "version": 2
   },
   "file_extension": ".py",
   "mimetype": "text/x-python",
   "name": "python",
   "nbconvert_exporter": "python",
   "pygments_lexer": "ipython2",
   "version": "2.7.12"
  }
 },
 "nbformat": 4,
 "nbformat_minor": 2
}
