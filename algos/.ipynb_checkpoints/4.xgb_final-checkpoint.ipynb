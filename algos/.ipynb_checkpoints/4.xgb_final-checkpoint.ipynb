{
 "cells": [
  {
   "cell_type": "code",
   "execution_count": 1,
   "metadata": {
    "collapsed": true
   },
   "outputs": [],
   "source": [
    "import pandas as pd\n",
    "import numpy as np\n",
    "import xgboost as xgb\n",
    "import matplotlib.pyplot as plt\n",
    "from sklearn.preprocessing import Imputer,StandardScaler\n",
    "from sklearn.cross_validation import train_test_split\n",
    "from sklearn import preprocessing\n",
    "import math"
   ]
  },
  {
   "cell_type": "code",
   "execution_count": 2,
   "metadata": {
    "collapsed": true
   },
   "outputs": [],
   "source": [
    "def standard(train,test):\n",
    "    scaler = StandardScaler().fit(train)\n",
    "    train = scaler.transform(train)\n",
    "    test = scaler.transform(test)\n",
    "    return train,test"
   ]
  },
  {
   "cell_type": "code",
   "execution_count": 3,
   "metadata": {
    "collapsed": false
   },
   "outputs": [],
   "source": [
    "x_train = pd.read_csv('../data/x_train_30.csv')\n",
    "y_train = pd.read_csv('../data/pre_y_train.csv')\n",
    "x_test = pd.read_csv('../data/x_test_30.csv')\n",
    "x_test_id = pd.read_csv('../data/pre_x_test.csv',usecols=['id'])\n",
    "#x_train,x_test = standard(x_train,x_test)\n",
    "#print x_train\n",
    "#for i in x_train.columns:\n",
    "#    if x_train[i].dtype != np.int64 and x_train[i].dtype != np.float64:\n",
    "#        print i"
   ]
  },
  {
   "cell_type": "code",
   "execution_count": 4,
   "metadata": {
    "collapsed": true
   },
   "outputs": [],
   "source": [
    "x_train, x_valid, y_train, y_valid = train_test_split(x_train, y_train, test_size=0.1)"
   ]
  },
  {
   "cell_type": "code",
   "execution_count": 5,
   "metadata": {
    "collapsed": false
   },
   "outputs": [
    {
     "name": "stdout",
     "output_type": "stream",
     "text": [
      "[0]\ttrain-rmse:14.82\tvalid-rmse:14.816\n",
      "Multiple eval metrics have been passed: 'valid-rmse' will be used for early stopping.\n",
      "\n",
      "Will train until valid-rmse hasn't improved in 50 rounds.\n",
      "[10]\ttrain-rmse:12.1132\tvalid-rmse:12.1098\n",
      "[20]\ttrain-rmse:9.90236\tvalid-rmse:9.89892\n",
      "[30]\ttrain-rmse:8.09677\tvalid-rmse:8.09341\n",
      "[40]\ttrain-rmse:6.62252\tvalid-rmse:6.6191\n",
      "[50]\ttrain-rmse:5.41921\tvalid-rmse:5.4155\n",
      "[60]\ttrain-rmse:4.43752\tvalid-rmse:4.43377\n",
      "[70]\ttrain-rmse:3.63717\tvalid-rmse:3.63352\n",
      "[80]\ttrain-rmse:2.98522\tvalid-rmse:2.98208\n",
      "[90]\ttrain-rmse:2.4549\tvalid-rmse:2.4524\n",
      "[100]\ttrain-rmse:2.02445\tvalid-rmse:2.02293\n",
      "[110]\ttrain-rmse:1.67608\tvalid-rmse:1.67599\n",
      "[120]\ttrain-rmse:1.39544\tvalid-rmse:1.3966\n",
      "[130]\ttrain-rmse:1.17075\tvalid-rmse:1.17334\n",
      "[140]\ttrain-rmse:0.992277\tvalid-rmse:0.996277\n",
      "[150]\ttrain-rmse:0.851998\tvalid-rmse:0.857857\n",
      "[160]\ttrain-rmse:0.743157\tvalid-rmse:0.751097\n",
      "[170]\ttrain-rmse:0.659867\tvalid-rmse:0.669975\n",
      "[180]\ttrain-rmse:0.59747\tvalid-rmse:0.609727\n",
      "[190]\ttrain-rmse:0.551273\tvalid-rmse:0.565714\n",
      "[200]\ttrain-rmse:0.517587\tvalid-rmse:0.534013\n",
      "[210]\ttrain-rmse:0.493185\tvalid-rmse:0.511482\n",
      "[220]\ttrain-rmse:0.475649\tvalid-rmse:0.495751\n",
      "[230]\ttrain-rmse:0.462838\tvalid-rmse:0.484618\n",
      "[240]\ttrain-rmse:0.453632\tvalid-rmse:0.47685\n",
      "[250]\ttrain-rmse:0.446909\tvalid-rmse:0.471519\n",
      "[260]\ttrain-rmse:0.441939\tvalid-rmse:0.467832\n",
      "[270]\ttrain-rmse:0.437971\tvalid-rmse:0.465273\n",
      "[280]\ttrain-rmse:0.434769\tvalid-rmse:0.463359\n",
      "[290]\ttrain-rmse:0.432065\tvalid-rmse:0.46199\n",
      "[300]\ttrain-rmse:0.429793\tvalid-rmse:0.461058\n",
      "[310]\ttrain-rmse:0.42796\tvalid-rmse:0.460185\n",
      "[320]\ttrain-rmse:0.426355\tvalid-rmse:0.459609\n",
      "[330]\ttrain-rmse:0.424901\tvalid-rmse:0.459023\n",
      "[340]\ttrain-rmse:0.42353\tvalid-rmse:0.458578\n",
      "[350]\ttrain-rmse:0.422281\tvalid-rmse:0.458278\n",
      "[360]\ttrain-rmse:0.421065\tvalid-rmse:0.457927\n",
      "[370]\ttrain-rmse:0.420161\tvalid-rmse:0.457571\n",
      "[380]\ttrain-rmse:0.419357\tvalid-rmse:0.457333\n",
      "[390]\ttrain-rmse:0.418443\tvalid-rmse:0.457043\n",
      "[400]\ttrain-rmse:0.417609\tvalid-rmse:0.456939\n",
      "[410]\ttrain-rmse:0.416639\tvalid-rmse:0.456701\n",
      "[420]\ttrain-rmse:0.415699\tvalid-rmse:0.456599\n",
      "[430]\ttrain-rmse:0.41475\tvalid-rmse:0.456493\n",
      "[440]\ttrain-rmse:0.413932\tvalid-rmse:0.456502\n",
      "[450]\ttrain-rmse:0.412889\tvalid-rmse:0.456301\n",
      "[460]\ttrain-rmse:0.411916\tvalid-rmse:0.456192\n",
      "[470]\ttrain-rmse:0.410681\tvalid-rmse:0.456189\n",
      "[480]\ttrain-rmse:0.409496\tvalid-rmse:0.45603\n",
      "[490]\ttrain-rmse:0.408505\tvalid-rmse:0.45594\n",
      "[500]\ttrain-rmse:0.407581\tvalid-rmse:0.455784\n",
      "[510]\ttrain-rmse:0.406512\tvalid-rmse:0.455792\n",
      "[520]\ttrain-rmse:0.405741\tvalid-rmse:0.45577\n",
      "[530]\ttrain-rmse:0.404849\tvalid-rmse:0.455731\n",
      "[540]\ttrain-rmse:0.404073\tvalid-rmse:0.455633\n",
      "[550]\ttrain-rmse:0.403288\tvalid-rmse:0.455481\n",
      "[560]\ttrain-rmse:0.402478\tvalid-rmse:0.455478\n",
      "[570]\ttrain-rmse:0.401669\tvalid-rmse:0.455516\n",
      "[580]\ttrain-rmse:0.40096\tvalid-rmse:0.455563\n",
      "[590]\ttrain-rmse:0.400006\tvalid-rmse:0.455569\n",
      "[600]\ttrain-rmse:0.399352\tvalid-rmse:0.455579\n",
      "Stopping. Best iteration:\n",
      "[554]\ttrain-rmse:0.403056\tvalid-rmse:0.455418\n",
      "\n"
     ]
    }
   ],
   "source": [
    "params = {}\n",
    "params['objective'] = 'reg:linear'\n",
    "params['eval_metric'] = 'rmse'\n",
    "params['eta'] = 0.02\n",
    "params['max_depth'] = 6\n",
    "d_train = xgb.DMatrix(x_train,y_train)\n",
    "d_valid = xgb.DMatrix(x_valid,y_valid)\n",
    "watchlist = [(d_train, 'train'), (d_valid, 'valid')]\n",
    "bst = xgb.train(params, d_train, 1000, watchlist ,early_stopping_rounds=50, verbose_eval=10)"
   ]
  },
  {
   "cell_type": "code",
   "execution_count": 6,
   "metadata": {
    "collapsed": true
   },
   "outputs": [],
   "source": [
    "d_test = xgb.DMatrix(x_test)\n",
    "y_test = bst.predict(d_test)"
   ]
  },
  {
   "cell_type": "code",
   "execution_count": 7,
   "metadata": {
    "collapsed": true
   },
   "outputs": [],
   "source": [
    "sub = pd.DataFrame()\n",
    "sub['id'] = np.array(x_test_id['id'].values,np.int32)\n",
    "sub['price_doc'] = np.exp(y_test)-1.0\n",
    "sub.to_csv('../output/simple11.csv', index=False)"
   ]
  }
 ],
 "metadata": {
  "anaconda-cloud": {},
  "kernelspec": {
   "display_name": "Python [default]",
   "language": "python",
   "name": "python2"
  },
  "language_info": {
   "codemirror_mode": {
    "name": "ipython",
    "version": 2
   },
   "file_extension": ".py",
   "mimetype": "text/x-python",
   "name": "python",
   "nbconvert_exporter": "python",
   "pygments_lexer": "ipython2",
   "version": "2.7.12"
  }
 },
 "nbformat": 4,
 "nbformat_minor": 2
}
