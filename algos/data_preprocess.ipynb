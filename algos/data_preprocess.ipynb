{
 "cells": [
  {
   "cell_type": "code",
   "execution_count": 1,
   "metadata": {
    "collapsed": false
   },
   "outputs": [],
   "source": [
    "import pandas as pd\n",
    "import numpy as np\n",
    "import xgboost\n",
    "import matplotlib.pyplot as plt\n",
    "from sklearn.preprocessing import Imputer"
   ]
  },
  {
   "cell_type": "code",
   "execution_count": 2,
   "metadata": {
    "collapsed": false
   },
   "outputs": [
    {
     "name": "stderr",
     "output_type": "stream",
     "text": [
      "/home/jarvis/anaconda2/lib/python2.7/site-packages/ipykernel/__main__.py:4: SettingWithCopyWarning: \n",
      "A value is trying to be set on a copy of a slice from a DataFrame\n",
      "\n",
      "See the caveats in the documentation: http://pandas.pydata.org/pandas-docs/stable/indexing.html#indexing-view-versus-copy\n",
      "/home/jarvis/anaconda2/lib/python2.7/site-packages/ipykernel/__main__.py:5: SettingWithCopyWarning: \n",
      "A value is trying to be set on a copy of a slice from a DataFrame\n",
      "\n",
      "See the caveats in the documentation: http://pandas.pydata.org/pandas-docs/stable/indexing.html#indexing-view-versus-copy\n"
     ]
    }
   ],
   "source": [
    "macro = pd.read_csv(\"../data/macro.csv\",parse_dates=['timestamp'])\n",
    "x_train = pd.read_csv(\"../data/train.csv\",parse_dates=['timestamp'])\n",
    "del x_train['price_doc']\n",
    "x_train['state'][x_train['state']==33] = 2\n",
    "x_train.build_year[x_train.build_year == 20052009] = 2007.0\n",
    "y_train = pd.read_csv(\"../data/train.csv\",usecols=['price_doc'])\n",
    "y_train['price_doc'] = np.log(y_train.price_doc + 1,dtype=np.float64)\n",
    "x_test = pd.read_csv('../data/test.csv',parse_dates=['timestamp'])"
   ]
  },
  {
   "cell_type": "code",
   "execution_count": 3,
   "metadata": {
    "collapsed": false
   },
   "outputs": [],
   "source": [
    "for i in x_train.columns:\n",
    "    if x_train[i].dtype == np.int64 or x_train[i].dtype == np.float64:\n",
    "        imp = Imputer(missing_values='NaN', strategy='mean', axis=0)\n",
    "        col = x_train[i].values.reshape(-1,1)\n",
    "        imp.fit(col)\n",
    "        col = imp.transform(col)\n",
    "        x_train[i] = col.reshape(-1)\n",
    "        col = x_test[i].values.reshape(-1,1)\n",
    "        col = imp.transform(col)\n",
    "        x_test[i] = col.reshape(-1)"
   ]
  },
  {
   "cell_type": "code",
   "execution_count": 4,
   "metadata": {
    "collapsed": true
   },
   "outputs": [],
   "source": [
    "for i in macro.columns:\n",
    "    if macro[i].dtype == np.int64 or macro[i].dtype == np.float64:\n",
    "        imp = Imputer(missing_values='NaN', strategy='mean', axis=0)\n",
    "        col = macro[i].values.reshape(-1,1)\n",
    "        imp.fit(col)\n",
    "        col = imp.transform(col)\n",
    "        macro[i] = col.reshape(-1)"
   ]
  },
  {
   "cell_type": "code",
   "execution_count": 5,
   "metadata": {
    "collapsed": false
   },
   "outputs": [],
   "source": [
    "to_remove = set()\n",
    "for i in x_train.columns[2:]:\n",
    "    for j in x_train.columns[2:]:\n",
    "        if (x_train[i].dtype == np.int64 or x_train[i].dtype == np.float64) and (x_train[j].dtype == np.int64 or x_train[j].dtype == np.float64) and i!=j:\n",
    "            list1 = x_train[i].values\n",
    "            list2 = x_train[j].values\n",
    "            if np.corrcoef(list1,list2)[0,1] > 0.7:\n",
    "                to_remove.add(j)"
   ]
  },
  {
   "cell_type": "code",
   "execution_count": 6,
   "metadata": {
    "collapsed": false
   },
   "outputs": [],
   "source": [
    "to_remove = list(to_remove)\n",
    "file1 = open('../created_files/remove_from_train.txt','w')\n",
    "for i in range(0,len(to_remove)): \n",
    "    file1.write(str(to_remove[i])+'\\n')\n",
    "file1.close()    "
   ]
  },
  {
   "cell_type": "code",
   "execution_count": 7,
   "metadata": {
    "collapsed": true
   },
   "outputs": [],
   "source": [
    "to_remove = set()\n",
    "for i in macro.columns:\n",
    "    for j in macro.columns:\n",
    "        if (macro[i].dtype == np.int64 or macro[i].dtype == np.float64) and (macro[j].dtype == np.int64 or macro[j].dtype == np.float64) and i!=j:\n",
    "            list1 = macro[i].values\n",
    "            list2 = macro[j].values\n",
    "            if np.corrcoef(list1,list2)[0,1] > 0.7:\n",
    "                to_remove.add(j)"
   ]
  },
  {
   "cell_type": "code",
   "execution_count": 8,
   "metadata": {
    "collapsed": false
   },
   "outputs": [],
   "source": [
    "to_remove = list(to_remove)\n",
    "file1 = open('../created_files/remove_from_macro.txt','w')\n",
    "for i in range(0,len(to_remove)): \n",
    "    file1.write(str(to_remove[i])+'\\n')\n",
    "file1.close()    "
   ]
  },
  {
   "cell_type": "code",
   "execution_count": 9,
   "metadata": {
    "collapsed": false
   },
   "outputs": [],
   "source": [
    "with open('../created_files/remove_from_train.txt', 'r') as f1:\n",
    "    for line in f1:\n",
    "        del x_train[line.split()[0]]\n",
    "f1.close()\n",
    "with open('../created_files/remove_from_macro.txt', 'r') as f1:\n",
    "    for line in f1:\n",
    "        del macro[line.split()[0]]\n",
    "f1.close()\n",
    "x_train.to_csv('../data/pre_x_train.csv',index=False)\n",
    "macro.to_csv('../data/pre_macro.csv',index=False)"
   ]
  },
  {
   "cell_type": "code",
   "execution_count": 10,
   "metadata": {
    "collapsed": true
   },
   "outputs": [],
   "source": [
    "with open('../created_files/remove_from_train.txt', 'r') as f1:\n",
    "    for line in f1:\n",
    "        del x_test[line.split()[0]]\n",
    "f1.close()\n",
    "x_test.to_csv('../data/pre_x_test.csv',index=False)"
   ]
  },
  {
   "cell_type": "code",
   "execution_count": 11,
   "metadata": {
    "collapsed": true
   },
   "outputs": [],
   "source": [
    "y_train.to_csv('../data/pre_y_train.csv',index=False)"
   ]
  }
 ],
 "metadata": {
  "anaconda-cloud": {},
  "kernelspec": {
   "display_name": "Python [default]",
   "language": "python",
   "name": "python2"
  },
  "language_info": {
   "codemirror_mode": {
    "name": "ipython",
    "version": 2
   },
   "file_extension": ".py",
   "mimetype": "text/x-python",
   "name": "python",
   "nbconvert_exporter": "python",
   "pygments_lexer": "ipython2",
   "version": "2.7.12"
  }
 },
 "nbformat": 4,
 "nbformat_minor": 2
}
