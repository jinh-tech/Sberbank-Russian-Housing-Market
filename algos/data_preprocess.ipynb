{
 "cells": [
  {
   "cell_type": "code",
   "execution_count": 1,
   "metadata": {
    "collapsed": false
   },
   "outputs": [],
   "source": [
    "import pandas as pd\n",
    "import numpy as np\n",
    "import xgboost\n",
    "import matplotlib.pyplot as plt"
   ]
  },
  {
   "cell_type": "code",
   "execution_count": 5,
   "metadata": {
    "collapsed": false
   },
   "outputs": [],
   "source": [
    "macro = pd.read_csv(\"../data/macro.csv\",parse_dates=['timestamp'])\n",
    "x_train = pd.read_csv(\"../data/train.csv\",parse_dates=['timestamp'])\n",
    "del x_train['price_doc']\n",
    "y_train = pd.read_csv(\"../data/train.csv\",usecols=['price_doc'])\n",
    "col_x_train = x_train.columns\n",
    "dty_x_train = x_train.dtypes.tolist()\n",
    "for i in range(0,len(dty_x_train)):\n",
    "    if dty_x_train[i] == np.int64:\n",
    "        dty_x_train[i] = 0\n",
    "    elif dty_x_train[i] == np.float64:\n",
    "        dty_x_train[i] = 1\n",
    "    elif dty_x_train[i] == np.object:\n",
    "        dty_x_train[i] = 2\n",
    "    else:\n",
    "        dty_x_train[i] = 3"
   ]
  },
  {
   "cell_type": "code",
   "execution_count": null,
   "metadata": {
    "collapsed": true
   },
   "outputs": [],
   "source": [
    "to_remove = set()\n",
    "for i in range(0,len(col_x_train)):\n",
    "    print i\n",
    "    for j in range(0,len(col_x_train)):\n",
    "        if dty_x_train[i] == 1 or dty_x_train[i] == 0:\n",
    "            list1 = x_train[col_x_train[i]].values\n",
    "            list2 = x_train[col_x_train[j]].values\n",
    "            try:\n",
    "                if np.corrcoef(list1,list2)[0,1] > 0.7:\n",
    "                    to_remove.add(j)\n",
    "            except:\n",
    "                pass"
   ]
  },
  {
   "cell_type": "code",
   "execution_count": null,
   "metadata": {
    "collapsed": false
   },
   "outputs": [],
   "source": [
    "to_remove = list(to_remove)\n",
    "file1 = open('../created_files/remove_from_train.txt','w')\n",
    "for i in range(1,len(to_remove)):      # index 0 corresponds to id\n",
    "    file1.write(str(col_x_train[to_remove[i]])+'\\n')\n",
    "file1.close()    "
   ]
  },
  {
   "cell_type": "code",
   "execution_count": null,
   "metadata": {
    "collapsed": true
   },
   "outputs": [],
   "source": [
    "col_macro = macro.columns\n",
    "dty_macro = macro.dtypes.tolist()\n",
    "for i in range(0,len(dty_macro)):\n",
    "    if dty_macro[i] == np.int64:\n",
    "        dty_macro[i] = 0\n",
    "    elif dty_macro[i] == np.float64:\n",
    "        dty_macro[i] = 1\n",
    "    elif dty_macro[i] == np.object:\n",
    "        dty_macro[i] = 2\n",
    "    else:\n",
    "        dty_macro[i] = 3\n",
    "to_remove = set()\n",
    "for i in range(0,len(col_macro)):\n",
    "    print i\n",
    "    for j in range(0,len(col_macro)):\n",
    "        if (dty_macro[i] == 1 or dty_macro[i] == 0) and (dty_macro[j] == 1 or dty_macro[j] == 0) :\n",
    "            list1 = macro[col_macro[i]].values\n",
    "            list2 = macro[col_macro[j]].values\n",
    "            try:\n",
    "                if np.corrcoef(list1,list2)[0,1] > 0.7:\n",
    "                    to_remove.add(j)\n",
    "            except:\n",
    "                pass"
   ]
  },
  {
   "cell_type": "code",
   "execution_count": null,
   "metadata": {
    "collapsed": false
   },
   "outputs": [],
   "source": [
    "to_remove = list(to_remove)\n",
    "file1 = open('../created_files/remove_from_macro.txt','w')\n",
    "for i in range(0,len(to_remove)):      # index 0 corresponds to id\n",
    "    file1.write(str(col_macro[to_remove[i]])+'\\n')\n",
    "file1.close()    "
   ]
  },
  {
   "cell_type": "code",
   "execution_count": 6,
   "metadata": {
    "collapsed": false
   },
   "outputs": [],
   "source": [
    "with open('../created_files/remove_from_train.txt', 'r') as f1:\n",
    "    for line in f1:\n",
    "        del x_train[line.split()[0]]\n",
    "f1.close()\n",
    "with open('../created_files/remove_from_macro.txt', 'r') as f1:\n",
    "    for line in f1:\n",
    "        del macro[line.split()[0]]\n",
    "f1.close()\n",
    "x_train.to_csv('../data/pre_x_train.csv',index=False)\n",
    "macro.to_csv('../data/pre_macro.csv',index=False)"
   ]
  },
  {
   "cell_type": "code",
   "execution_count": 7,
   "metadata": {
    "collapsed": true
   },
   "outputs": [],
   "source": [
    "x_test = pd.read_csv('../data/test.csv')\n",
    "with open('../created_files/remove_from_train.txt', 'r') as f1:\n",
    "    for line in f1:\n",
    "        del x_test[line.split()[0]]\n",
    "f1.close()\n",
    "x_test.to_csv('../data/pre_x_test.csv',index=False)"
   ]
  }
 ],
 "metadata": {
  "anaconda-cloud": {},
  "kernelspec": {
   "display_name": "Python [default]",
   "language": "python",
   "name": "python2"
  },
  "language_info": {
   "codemirror_mode": {
    "name": "ipython",
    "version": 2
   },
   "file_extension": ".py",
   "mimetype": "text/x-python",
   "name": "python",
   "nbconvert_exporter": "python",
   "pygments_lexer": "ipython2",
   "version": "2.7.12"
  }
 },
 "nbformat": 4,
 "nbformat_minor": 2
}
